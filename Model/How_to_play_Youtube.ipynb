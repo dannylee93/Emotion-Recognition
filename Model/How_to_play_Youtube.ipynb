{
 "cells": [
  {
   "cell_type": "code",
   "execution_count": 10,
   "metadata": {},
   "outputs": [],
   "source": [
    "import pafy"
   ]
  },
  {
   "cell_type": "code",
   "execution_count": 15,
   "metadata": {},
   "outputs": [],
   "source": [
    "import vlc"
   ]
  },
  {
   "cell_type": "code",
   "execution_count": 22,
   "metadata": {},
   "outputs": [],
   "source": [
    "url = \"https://www.youtube.com/watch?v=q-H7qVgFwrE\"\n",
    "\n",
    "# tell pafy about the URL\n",
    "video = pafy.new(url)\n",
    "\n",
    "# check out the best video formats for the media\n",
    "best = video.getbest()\n",
    "\n",
    "# check out the best video formats for the media\n",
    "playurl = best.url"
   ]
  },
  {
   "cell_type": "code",
   "execution_count": 23,
   "metadata": {},
   "outputs": [
    {
     "data": {
      "text/plain": [
       "0"
      ]
     },
     "execution_count": 23,
     "metadata": {},
     "output_type": "execute_result"
    }
   ],
   "source": [
    "# best URL to play\n",
    "Instance = vlc.Instance()\n",
    "player = Instance.media_player_new()\n",
    "Media = Instance.media_new(playurl)\n",
    "\n",
    "Media.get_mrl()\n",
    "\n",
    "player.set_media(Media)\n",
    "player.play()"
   ]
  },
  {
   "cell_type": "code",
   "execution_count": 24,
   "metadata": {},
   "outputs": [],
   "source": [
    "player.stop()"
   ]
  },
  {
   "cell_type": "code",
   "execution_count": null,
   "metadata": {},
   "outputs": [],
   "source": [
    ">>> player.pause() #-- to pause video\n",
    ">>> player.resume()  #-- resume paused video.\n",
    ">>> player.stop()  #-- to stop/end video"
   ]
  }
 ],
 "metadata": {
  "kernelspec": {
   "display_name": "Python 3",
   "language": "python",
   "name": "python3"
  },
  "language_info": {
   "codemirror_mode": {
    "name": "ipython",
    "version": 3
   },
   "file_extension": ".py",
   "mimetype": "text/x-python",
   "name": "python",
   "nbconvert_exporter": "python",
   "pygments_lexer": "ipython3",
   "version": "3.7.4"
  }
 },
 "nbformat": 4,
 "nbformat_minor": 2
}
