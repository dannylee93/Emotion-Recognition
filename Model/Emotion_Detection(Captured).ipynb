{
 "cells": [
  {
   "cell_type": "code",
   "execution_count": 1,
   "metadata": {},
   "outputs": [
    {
     "name": "stderr",
     "output_type": "stream",
     "text": [
      "C:\\Users\\bruce0809\\Anaconda3\\lib\\site-packages\\sklearn\\externals\\joblib\\__init__.py:15: DeprecationWarning: sklearn.externals.joblib is deprecated in 0.21 and will be removed in 0.23. Please import this functionality directly from joblib, which can be installed with: pip install joblib. If this warning is raised when loading pickled models, you may need to re-serialize those models with scikit-learn 0.21+.\n",
      "  warnings.warn(msg, category=DeprecationWarning)\n",
      "Using TensorFlow backend.\n"
     ]
    }
   ],
   "source": [
    "import warnings\n",
    "import cv2\n",
    "import os\n",
    "import copy\n",
    "from sklearn.externals import joblib\n",
    "import numpy as np\n",
    "from keras.models import load_model\n",
    "import matplotlib.pyplot as plt\n",
    "\n",
    "def Emotion_detection(imgsrc):\n",
    "    \n",
    "    src = cv2.imread(imgsrc)\n",
    "    model = load_model('CNN_model(small).h5')\n",
    "    cascade_file = 'haarcascade_frontface.xml'\n",
    "    cascade = cv2.CascadeClassifier(cascade_file)\n",
    "    # 이전 프레임과 비교를 위해 흑백으로 변환하기 --- (*2)\n",
    "    gray = cv2.cvtColor(src, cv2.COLOR_BGR2GRAY)\n",
    "    face_list = cascade.detectMultiScale(gray)\n",
    "\n",
    "    for (x,y,w,h) in face_list:\n",
    "        roi = src[y:y+h, x:x+w]\n",
    "        imagex = cv2.resize(roi, (200, 200))\n",
    "        print(imagex.shape)\n",
    "#         plt.imshow(cv2.cvtColor(imagex, cv2.COLOR_BGR2RGB))\n",
    "#         plt.show()\n",
    "        image_data = imagex.reshape(1, 200, 200,3 )\n",
    "\n",
    "        color = (255, 0, 0)\n",
    "\n",
    "        pred_y = model.predict(image_data) # --- (*4)\n",
    "        print(pred_y)\n",
    "\n",
    "        if np.argmax(pred_y) == 0:\n",
    "                cv2.rectangle(src, (x, y), (x+w, y+h), color, thickness=4)\n",
    "                cv2.putText(src,'Positive',(x,y-20),cv2.FONT_ITALIC, 0.5, (255,255,255))  \n",
    "\n",
    "        elif np.argmax(pred_y) == 1:  \n",
    "                cv2.rectangle(src, (x, y), (x+w, y+h), color, thickness=4)\n",
    "                cv2.putText(src,'Neutral',(x,y-20),cv2.FONT_ITALIC, 0.5, (255,255,255))  \n",
    "        else:\n",
    "            np.argmax(pred_y) == 2\n",
    "            cv2.rectangle(src, (x, y), (x+w, y+h), color, thickness=4)\n",
    "            cv2.putText(src,'Negative',(x,y-20),cv2.FONT_ITALIC, 0.5, (255,255,255))          \n",
    "\n",
    "        cv2.imshow('src', src)\n",
    "        cv2.waitKey(0)\n",
    "        cv2.destroyAllWindows()"
   ]
  },
  {
   "cell_type": "code",
   "execution_count": 2,
   "metadata": {},
   "outputs": [
    {
     "name": "stdout",
     "output_type": "stream",
     "text": [
      "WARNING:tensorflow:From C:\\Users\\bruce0809\\Anaconda3\\lib\\site-packages\\keras\\backend\\tensorflow_backend.py:4070: The name tf.nn.max_pool is deprecated. Please use tf.nn.max_pool2d instead.\n",
      "\n",
      "WARNING:tensorflow:From C:\\Users\\bruce0809\\Anaconda3\\lib\\site-packages\\keras\\backend\\tensorflow_backend.py:422: The name tf.global_variables is deprecated. Please use tf.compat.v1.global_variables instead.\n",
      "\n",
      "(200, 200, 3)\n",
      "[[0.         0.99858403 0.00141604]]\n"
     ]
    }
   ],
   "source": [
    "Emotion_detection(imgsrc='girl_face.jpg')"
   ]
  },
  {
   "cell_type": "code",
   "execution_count": null,
   "metadata": {},
   "outputs": [],
   "source": []
  }
 ],
 "metadata": {
  "kernelspec": {
   "display_name": "Python 3",
   "language": "python",
   "name": "python3"
  },
  "language_info": {
   "codemirror_mode": {
    "name": "ipython",
    "version": 3
   },
   "file_extension": ".py",
   "mimetype": "text/x-python",
   "name": "python",
   "nbconvert_exporter": "python",
   "pygments_lexer": "ipython3",
   "version": "3.7.4"
  }
 },
 "nbformat": 4,
 "nbformat_minor": 2
}
