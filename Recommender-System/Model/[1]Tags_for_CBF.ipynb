{
 "cells": [
  {
   "cell_type": "markdown",
   "metadata": {},
   "source": [
    "## 필요한 모듈 불러오기"
   ]
  },
  {
   "cell_type": "code",
   "execution_count": 2,
   "metadata": {},
   "outputs": [],
   "source": [
    "import numpy as np\n",
    "import pandas as pd\n",
    "import json\n",
    "from gensim.models import Word2Vec\n",
    "from scipy.sparse import csr_matrix\n",
    "import os; os.environ['KMP_DUPLICATE_LIB_OK']='True'\n",
    "from collections import Counter\n",
    "import matplotlib as mpl\n",
    "import matplotlib.pyplot as plt\n",
    "import seaborn as sns\n",
    "\n",
    "%matplotlib inline\n",
    "mpl.pyplot.rc('font', family='Malgun Gothic')\n",
    "plt.rcParams[\"figure.figsize\"] = (20, 10)\n",
    "plt.style.use('ggplot')"
   ]
  },
  {
   "cell_type": "markdown",
   "metadata": {},
   "source": [
    "## 태그 정보가 담긴 데이터셋 불러오기"
   ]
  },
  {
   "cell_type": "code",
   "execution_count": 3,
   "metadata": {},
   "outputs": [],
   "source": [
    "playlists_df = pd.read_json('train.json', typ = 'frame')\n",
    "# playlists_df.head()"
   ]
  },
  {
   "cell_type": "code",
   "execution_count": 4,
   "metadata": {},
   "outputs": [],
   "source": [
    "playlist_id_tags = playlists_df[['id', 'tags']]\n",
    "playlist_id_tags\n",
    "tag_copy = playlist_id_tags.copy()\n",
    "# 각 플레이리스트에는 1개부터 n개 까지 여러개의 태그가 붙어져 있다."
   ]
  },
  {
   "cell_type": "code",
   "execution_count": 5,
   "metadata": {},
   "outputs": [],
   "source": [
    "# 각 id 별로 태그 개수만큼 조인\n",
    "playlist_id_tags_unnest = np.dstack(\n",
    "    (\n",
    "        np.repeat(playlist_id_tags.id.values, list(map(len, playlist_id_tags.tags))), \n",
    "        np.concatenate(playlist_id_tags.tags.values)\n",
    "    ))"
   ]
  },
  {
   "cell_type": "code",
   "execution_count": 6,
   "metadata": {},
   "outputs": [
    {
     "data": {
      "text/plain": [
       "array([['61281', '락'],\n",
       "       ['10532', '추억'],\n",
       "       ['10532', '회상'],\n",
       "       ...,\n",
       "       ['100389', '팝송추천'],\n",
       "       ['100389', '팝송'],\n",
       "       ['100389', '팝송모음']], dtype='<U21')"
      ]
     },
     "execution_count": 6,
     "metadata": {},
     "output_type": "execute_result"
    }
   ],
   "source": [
    "playlist_id_tags_unnest[0]"
   ]
  },
  {
   "cell_type": "code",
   "execution_count": 7,
   "metadata": {},
   "outputs": [
    {
     "data": {
      "text/html": [
       "<div>\n",
       "<style scoped>\n",
       "    .dataframe tbody tr th:only-of-type {\n",
       "        vertical-align: middle;\n",
       "    }\n",
       "\n",
       "    .dataframe tbody tr th {\n",
       "        vertical-align: top;\n",
       "    }\n",
       "\n",
       "    .dataframe thead th {\n",
       "        text-align: right;\n",
       "    }\n",
       "</style>\n",
       "<table border=\"1\" class=\"dataframe\">\n",
       "  <thead>\n",
       "    <tr style=\"text-align: right;\">\n",
       "      <th></th>\n",
       "      <th>id</th>\n",
       "      <th>tags</th>\n",
       "    </tr>\n",
       "  </thead>\n",
       "  <tbody>\n",
       "    <tr>\n",
       "      <th>0</th>\n",
       "      <td>61281</td>\n",
       "      <td>락</td>\n",
       "    </tr>\n",
       "    <tr>\n",
       "      <th>1</th>\n",
       "      <td>10532</td>\n",
       "      <td>추억</td>\n",
       "    </tr>\n",
       "    <tr>\n",
       "      <th>2</th>\n",
       "      <td>10532</td>\n",
       "      <td>회상</td>\n",
       "    </tr>\n",
       "    <tr>\n",
       "      <th>3</th>\n",
       "      <td>76951</td>\n",
       "      <td>까페</td>\n",
       "    </tr>\n",
       "    <tr>\n",
       "      <th>4</th>\n",
       "      <td>76951</td>\n",
       "      <td>잔잔한</td>\n",
       "    </tr>\n",
       "  </tbody>\n",
       "</table>\n",
       "</div>"
      ],
      "text/plain": [
       "      id tags\n",
       "0  61281    락\n",
       "1  10532   추억\n",
       "2  10532   회상\n",
       "3  76951   까페\n",
       "4  76951  잔잔한"
      ]
     },
     "execution_count": 7,
     "metadata": {},
     "output_type": "execute_result"
    }
   ],
   "source": [
    "playlist_id_tags = pd.DataFrame(data=playlist_id_tags_unnest[0], columns=playlist_id_tags.columns)\n",
    "playlist_id_tags['id'] = playlist_id_tags['id'].astype(str)\n",
    "playlist_id_tags.head()"
   ]
  },
  {
   "cell_type": "markdown",
   "metadata": {},
   "source": [
    "## 각 플레이리스트의 태그 정보에 word2vec 적용"
   ]
  },
  {
   "cell_type": "code",
   "execution_count": 8,
   "metadata": {},
   "outputs": [],
   "source": [
    "# 1. 활용할 태그 데이터 준비\n",
    "df = playlist_id_tags['tags'].tolist()\n",
    "tags_dataset = tag_copy['tags'].tolist()"
   ]
  },
  {
   "cell_type": "code",
   "execution_count": 10,
   "metadata": {},
   "outputs": [
    {
     "data": {
      "text/plain": [
       "<gensim.models.word2vec.Word2Vec at 0x7fa240fed390>"
      ]
     },
     "execution_count": 10,
     "metadata": {},
     "output_type": "execute_result"
    }
   ],
   "source": [
    "# 2. 태그 -> 벡터화 모델 적용\n",
    "model = Word2Vec(tags_dataset, sg=1, window=3, min_count=1)\n",
    "model"
   ]
  },
  {
   "cell_type": "code",
   "execution_count": 11,
   "metadata": {},
   "outputs": [],
   "source": [
    "# 3. init_sims 명령으로 필요없는 메모리를 unload\n",
    "model.init_sims(replace=True)"
   ]
  },
  {
   "cell_type": "code",
   "execution_count": 15,
   "metadata": {},
   "outputs": [],
   "source": [
    "# # 최종 모델 저장\n",
    "# model.save('tag2vec.model')\n",
    "# # 저장한 모델 불러오기\n",
    "# model = Word2Vec.load('tag2vec.model')"
   ]
  },
  {
   "cell_type": "code",
   "execution_count": 17,
   "metadata": {},
   "outputs": [
    {
     "data": {
      "text/plain": [
       "[('휴양지', 0.891598105430603),\n",
       " ('시원', 0.8818683624267578),\n",
       " ('청량', 0.8792890310287476),\n",
       " ('시원한', 0.874660074710846),\n",
       " ('트로피컬', 0.8719056844711304),\n",
       " ('바닷가', 0.8544214963912964),\n",
       " ('Summer', 0.8534398078918457),\n",
       " ('청량함', 0.8504664897918701),\n",
       " ('바다', 0.848107099533081),\n",
       " ('더위', 0.8472164869308472)]"
      ]
     },
     "execution_count": 17,
     "metadata": {},
     "output_type": "execute_result"
    }
   ],
   "source": [
    "# '여름' 이라는 태그 예시 적용 \n",
    "model.wv.similar_by_word(word='여름', topn=10)"
   ]
  },
  {
   "cell_type": "markdown",
   "metadata": {},
   "source": [
    "## 벡터화 된 태그들의 상관관계를 보기위해 T-SNE 시각화 적용 "
   ]
  },
  {
   "cell_type": "code",
   "execution_count": null,
   "metadata": {},
   "outputs": [],
   "source": [
    "from sklearn.manifold import TSNE\n",
    "\n",
    "# 벡터화 된 태그들을 TSNE로 시각화 적용\n",
    "sim_tags = list(model.wv.vocab)\n",
    "\n",
    "X = model[sim_tags]\n",
    "tsne = TSNE(n_components=2, verbose=1)\n",
    "X_tsne = tsne.fit_transform(X)\n",
    "X_tsne.shape"
   ]
  },
  {
   "cell_type": "code",
   "execution_count": null,
   "metadata": {},
   "outputs": [],
   "source": [
    "# T-SNE를 시각화\n",
    "df_subset = pd.DataFrame()\n",
    "df_subset['tsne-2d-x'] = X_tsne[:,0]\n",
    "df_subset['tsne-2d-y'] = X_tsne[:,1]\n",
    "\n",
    "plt.figure(figsize=(40,20))\n",
    "\n",
    "sns.scatterplot(\n",
    "    x=\"tsne-2d-x\", y=\"tsne-2d-y\",\n",
    "    hue=\"tsne-2d-y\",\n",
    "    #palette=sns.color_palette(\"muted\"),\n",
    "    data=df_subset,\n",
    "    legend=\"full\",\n",
    "    alpha=0.3\n",
    ")\n",
    "# for word, pos in df.iterrows():\n",
    "#     ax.annotate(word, pos, fontsize=30)\n",
    "plt.show()\n",
    "\n",
    "# # 시간 절약을 위한 새로운 파일 생성\n",
    "# df_subset.to_csv('df_subset.csv', index=True)"
   ]
  }
 ],
 "metadata": {
  "kernelspec": {
   "display_name": "Python 3",
   "language": "python",
   "name": "python3"
  },
  "language_info": {
   "codemirror_mode": {
    "name": "ipython",
    "version": 3
   },
   "file_extension": ".py",
   "mimetype": "text/x-python",
   "name": "python",
   "nbconvert_exporter": "python",
   "pygments_lexer": "ipython3",
   "version": "3.7.4"
  }
 },
 "nbformat": 4,
 "nbformat_minor": 2
}
