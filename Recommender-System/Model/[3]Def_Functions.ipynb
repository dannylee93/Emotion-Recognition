{
 "cells": [
  {
   "cell_type": "markdown",
   "metadata": {},
   "source": [
    "## 필요한 모듈 불러오기"
   ]
  },
  {
   "cell_type": "code",
   "execution_count": 3,
   "metadata": {},
   "outputs": [],
   "source": [
    "import numpy as np\n",
    "import pandas as pd\n",
    "import json\n",
    "from gensim.models import Word2Vec\n",
    "from scipy.sparse import csr_matrix\n",
    "from scipy import sparse\n",
    "from implicit.evaluation import  *\n",
    "from implicit.als import AlternatingLeastSquares\n",
    "import os; os.environ['KMP_DUPLICATE_LIB_OK']='True'\n",
    "from collections import Counter\n",
    "import matplotlib as mpl\n",
    "import matplotlib.pyplot as plt\n",
    "import seaborn as sns\n",
    "\n",
    "%matplotlib inline\n",
    "plt.rcParams[\"figure.figsize\"] = (20, 10)\n",
    "plt.style.use('ggplot')"
   ]
  },
  {
   "cell_type": "markdown",
   "metadata": {},
   "source": [
    "## 데이터 업로드\n",
    "1. 곡 메타데이터\n",
    "2. Trainset\n",
    "3. Testset"
   ]
  },
  {
   "cell_type": "code",
   "execution_count": 4,
   "metadata": {},
   "outputs": [],
   "source": [
    "# 1. 메타데이터\n",
    "song_meta = pd.read_json('song_meta.json', typ = 'frame')\n",
    "# song_meta.head()"
   ]
  },
  {
   "cell_type": "code",
   "execution_count": 5,
   "metadata": {},
   "outputs": [],
   "source": [
    "# 2. trainset\n",
    "playlist_df = pd.read_json('train.json', typ = 'frame')\n",
    "# playlist_df.head()"
   ]
  },
  {
   "cell_type": "code",
   "execution_count": 6,
   "metadata": {},
   "outputs": [],
   "source": [
    "# 3. testset\n",
    "test_df = pd.read_csv('testset.csv', index_col=0)\n",
    "# test_df.head()"
   ]
  },
  {
   "cell_type": "markdown",
   "metadata": {},
   "source": [
    "## 미리 저장해둔 두개의 매트릭스 사용하기 \n",
    "- [Matrix-1] : 태그 유사도 행렬(태그를 벡터화한 모델)\n",
    "- [Matrix-2] : 플레이리스트(유저) - 곡(아이템) 에 대한 선호도 R 행렬"
   ]
  },
  {
   "cell_type": "code",
   "execution_count": 7,
   "metadata": {},
   "outputs": [
    {
     "name": "stderr",
     "output_type": "stream",
     "text": [
      "WARNING:root:OpenBLAS detected. Its highly recommend to set the environment variable 'export OPENBLAS_NUM_THREADS=1' to disable its internal multithreading\n"
     ]
    },
    {
     "data": {
      "application/vnd.jupyter.widget-view+json": {
       "model_id": "cdbd4c466b36490ba320374c37557a68",
       "version_major": 2,
       "version_minor": 0
      },
      "text/plain": [
       "HBox(children=(FloatProgress(value=0.0, max=15.0), HTML(value='')))"
      ]
     },
     "metadata": {},
     "output_type": "display_data"
    },
    {
     "name": "stdout",
     "output_type": "stream",
     "text": [
      "\n",
      "(707989, 128)\n",
      "(128, 153429)\n"
     ]
    }
   ],
   "source": [
    "# Matrix-1 : 저장한 모델 불러오기\n",
    "model = Word2Vec.load('tag2vec.model')\n",
    "\n",
    "# Matrix-2 : R 행렬의 데이터 불러오기\n",
    "R = sparse.load_npz(\"R_data.npz\")\n",
    "\n",
    "# initialize a model(모델 정의)\n",
    "model_ALS = AlternatingLeastSquares(factors=128, regularization=0.08, use_gpu=False)\n",
    "\n",
    "# train the model on a sparse matrix of item/user/confidence weights\n",
    "model_ALS.fit(R)\n",
    "\n",
    "# 유저-잠재요인 / 잠재요인-아이템 행렬에 대한 수치\n",
    "user_factors = model_ALS.user_factors\n",
    "item_factors = model_ALS.item_factors.T\n",
    "print(user_factors.shape); print(item_factors.shape)"
   ]
  },
  {
   "cell_type": "markdown",
   "metadata": {},
   "source": [
    "## 추천 알고리즘 메소드"
   ]
  },
  {
   "cell_type": "code",
   "execution_count": 8,
   "metadata": {},
   "outputs": [],
   "source": [
    "# 듣고 있는 곡의 태그와 유사한 태그 찾기(word='___')\n",
    "def tags_for_rec(t_model, tag_name, top_n):\n",
    "    \n",
    "    pred_tags = t_model.wv.similar_by_word(word=tag_name, topn=top_n)\n",
    "    tag_list = [tag for tag, _ in pred_tags]\n",
    "    return tag_list"
   ]
  },
  {
   "cell_type": "code",
   "execution_count": 9,
   "metadata": {},
   "outputs": [],
   "source": [
    "# 태그에서 플레이 리스트를 추천하는 메소드 만들기\n",
    "def plst_id_for_rec(data, tags_list):\n",
    "    plst_id_for_rec = []\n",
    "    \n",
    "    for index, value in enumerate(data[['id','tags']].values):\n",
    "        # print(value[0])    \n",
    "        for tag in tags_list:\n",
    "            # print(tag_list)\n",
    "            if tags_list[1] in value[1]: \n",
    "                plst_id_for_rec.append(value[0])\n",
    "    # 후보 태그에 대한 추천될 플레이리스트 id 후보군이 형성된다.\n",
    "    return plst_id_for_rec # 중복 언급 허용"
   ]
  },
  {
   "cell_type": "code",
   "execution_count": 10,
   "metadata": {},
   "outputs": [],
   "source": [
    "# 플레이리스트 후보군에서 추천하는 노래 ID 후보군을 추출하는 메소드\n",
    "def songs_for_rec(model, playlist_id, r, n):\n",
    "    # plst_id_for_rec = list(set(plst_id_for_rec))\n",
    "    songs_for_rec = []\n",
    "    \n",
    "    for idx in range(len(playlist_id)):\n",
    "        # recommend items for a user\n",
    "        recommendations = model.recommend(\n",
    "                            userid = playlist_id[idx],\n",
    "                            user_items = r,\n",
    "                            N = n\n",
    "                            )\n",
    "        \n",
    "        for song_id, rate in recommendations:\n",
    "            # print(song_id)\n",
    "            songs_for_rec.append(song_id)\n",
    "            \n",
    "    return songs_for_rec"
   ]
  },
  {
   "cell_type": "code",
   "execution_count": 11,
   "metadata": {},
   "outputs": [],
   "source": [
    "# 만들어진 음악 후보군에서 최종으로 추천할 노래 생성(행렬1, 2 모두 적용)\n",
    "def music_recommend(data, model, item_id, song_for_rec):\n",
    "    \n",
    "    answer = []\n",
    "    recomm = model.similar_items(itemid=item_id)\n",
    "    count_songs = Counter(song_for_rec)\n",
    "    # 후보군에서 반복언급된 TOP-3 노래 추출\n",
    "    max_values = sorted(count_songs.values(), reverse=True)[1:4]\n",
    "    \n",
    "    \n",
    "    ## 우선순위 1위 : 선호관계와 태그유사도에서 중복언급되는 곡id 확인\n",
    "    \n",
    "    # 1. 곡을 선호하는 유저 중 비슷한 유형의 TOP-3 유저id 추출\n",
    "    recommended_id = []\n",
    "    for idx,_ in enumerate(recomm):\n",
    "        if idx <= 2:\n",
    "            recommended_id.append(recomm[idx][0])\n",
    "        else:\n",
    "            break\n",
    "    \n",
    "    # 2. 추출된 유저id의 플레이리스트 곡id 추출\n",
    "    songs_id = []\n",
    "    for pl_id in recommended_id:\n",
    "        tmp = data[data['id']==pl_id]['songs'].tolist()\n",
    "        songs_id += tmp[0]\n",
    "    \n",
    "    # 3. 이전에 태그유사도에서 추출한 song_for_rec과 교집합 추출\n",
    "    songs_id = set(songs_id)\n",
    "    intersect = list(songs_id.intersection(set(song_for_rec)))\n",
    "    answer += intersect\n",
    "    \n",
    "    \n",
    "    ## 우선순위 2위 : 디폴트로 6곡 추가\n",
    "    \n",
    "    # 1. 선호관계 유사도에서 추천곡 3개 디폴트\n",
    "    songs_count = Counter(songs_id)\n",
    "    tmpt = [song_id for song_id, _ in songs_count.most_common(3)]\n",
    "    answer += tmpt\n",
    "    \n",
    "    # 2. 태그관계 유사도에서 추천곡 3개 디폴트\n",
    "    for key in list(count_songs.keys()):       \n",
    "        if count_songs[key] == max_values :\n",
    "            answer.append(key)\n",
    "    # answer.sort()\n",
    "        \n",
    "    return answer"
   ]
  },
  {
   "cell_type": "code",
   "execution_count": 12,
   "metadata": {},
   "outputs": [],
   "source": [
    "# 태그,곡 id만 입력하면 위의 메소드들이 다 실행되는 프로세스\n",
    "def recommendation_process(tag_model, r_model, train, tag, song_id):\n",
    "    \n",
    "    global tags_for_rec, plst_id_for_rec, songs_for_rec, music_recommend\n",
    "    \n",
    "    # 1. 태그 유사도 찾기\n",
    "    tags_for_rec_result = tags_for_rec(t_model=tag_model, tag_name=tag, top_n=3)\n",
    "\n",
    "    # 2. 태그를 가진 플레이리스트 찾기\n",
    "    plst_id_for_rec_result = plst_id_for_rec(data=train, tags_list=tags_for_rec_result)\n",
    "\n",
    "    # 3. 플레이리스트 중 가장 적합한 모델 찾기\n",
    "    songs_for_rec_result = songs_for_rec(model=r_model,\n",
    "                                         playlist_id = plst_id_for_rec_result,\n",
    "                                         r = R,\n",
    "                                         n = 1)\n",
    "\n",
    "    # 4. 생성된 후보군으로 최종 모델 찾기\n",
    "    music_recommend_result = music_recommend(data=train, model=r_model, item_id=song_id, song_for_rec=songs_for_rec_result)\n",
    "    \n",
    "    return music_recommend_result"
   ]
  }
 ],
 "metadata": {
  "kernelspec": {
   "display_name": "Python 3",
   "language": "python",
   "name": "python3"
  },
  "language_info": {
   "codemirror_mode": {
    "name": "ipython",
    "version": 3
   },
   "file_extension": ".py",
   "mimetype": "text/x-python",
   "name": "python",
   "nbconvert_exporter": "python",
   "pygments_lexer": "ipython3",
   "version": "3.7.4"
  }
 },
 "nbformat": 4,
 "nbformat_minor": 2
}
