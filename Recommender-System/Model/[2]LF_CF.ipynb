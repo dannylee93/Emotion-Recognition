{
 "cells": [
  {
   "cell_type": "markdown",
   "metadata": {},
   "source": [
    "## 필요한 모듈 불러오기"
   ]
  },
  {
   "cell_type": "code",
   "execution_count": 22,
   "metadata": {},
   "outputs": [],
   "source": [
    "import numpy as np\n",
    "import pandas as pd\n",
    "import json\n",
    "from sklearn.preprocessing import MinMaxScaler\n",
    "from scipy.sparse import csr_matrix\n",
    "from implicit.evaluation import  *\n",
    "from implicit.als import AlternatingLeastSquares\n",
    "import os; os.environ['KMP_DUPLICATE_LIB_OK']='True'\n",
    "from sklearn.utils import shuffle\n",
    "from collections import Counter\n",
    "import matplotlib as mpl\n",
    "import matplotlib.pyplot as plt\n",
    "import seaborn as sns\n",
    "\n",
    "%matplotlib inline\n",
    "mpl.pyplot.rc('font', family='Malgun Gothic')\n",
    "plt.rcParams[\"figure.figsize\"] = (20, 10)\n",
    "plt.style.use('ggplot')"
   ]
  },
  {
   "cell_type": "markdown",
   "metadata": {},
   "source": [
    "## 데이터셋 불러오기"
   ]
  },
  {
   "cell_type": "code",
   "execution_count": 6,
   "metadata": {},
   "outputs": [],
   "source": [
    "# 3. 플레이리스트 데이터\n",
    "playlists_df = pd.read_json('train.json', typ = 'frame')\n",
    "# playlists_df.head()"
   ]
  },
  {
   "cell_type": "code",
   "execution_count": 7,
   "metadata": {},
   "outputs": [
    {
     "data": {
      "text/html": [
       "<div>\n",
       "<style scoped>\n",
       "    .dataframe tbody tr th:only-of-type {\n",
       "        vertical-align: middle;\n",
       "    }\n",
       "\n",
       "    .dataframe tbody tr th {\n",
       "        vertical-align: top;\n",
       "    }\n",
       "\n",
       "    .dataframe thead th {\n",
       "        text-align: right;\n",
       "    }\n",
       "</style>\n",
       "<table border=\"1\" class=\"dataframe\">\n",
       "  <thead>\n",
       "    <tr style=\"text-align: right;\">\n",
       "      <th></th>\n",
       "      <th>id</th>\n",
       "      <th>songs</th>\n",
       "      <th>like_cnt</th>\n",
       "    </tr>\n",
       "  </thead>\n",
       "  <tbody>\n",
       "    <tr>\n",
       "      <th>0</th>\n",
       "      <td>61281</td>\n",
       "      <td>[525514, 129701, 383374, 562083, 297861, 13954...</td>\n",
       "      <td>71</td>\n",
       "    </tr>\n",
       "    <tr>\n",
       "      <th>1</th>\n",
       "      <td>10532</td>\n",
       "      <td>[432406, 675945, 497066, 120377, 389529, 24427...</td>\n",
       "      <td>1</td>\n",
       "    </tr>\n",
       "    <tr>\n",
       "      <th>2</th>\n",
       "      <td>76951</td>\n",
       "      <td>[83116, 276692, 166267, 186301, 354465, 256598...</td>\n",
       "      <td>17</td>\n",
       "    </tr>\n",
       "    <tr>\n",
       "      <th>3</th>\n",
       "      <td>147456</td>\n",
       "      <td>[394031, 195524, 540149, 287984, 440773, 10033...</td>\n",
       "      <td>33</td>\n",
       "    </tr>\n",
       "    <tr>\n",
       "      <th>4</th>\n",
       "      <td>27616</td>\n",
       "      <td>[159327, 553610, 5130, 645103, 294435, 100657,...</td>\n",
       "      <td>9</td>\n",
       "    </tr>\n",
       "  </tbody>\n",
       "</table>\n",
       "</div>"
      ],
      "text/plain": [
       "       id                                              songs  like_cnt\n",
       "0   61281  [525514, 129701, 383374, 562083, 297861, 13954...        71\n",
       "1   10532  [432406, 675945, 497066, 120377, 389529, 24427...         1\n",
       "2   76951  [83116, 276692, 166267, 186301, 354465, 256598...        17\n",
       "3  147456  [394031, 195524, 540149, 287984, 440773, 10033...        33\n",
       "4   27616  [159327, 553610, 5130, 645103, 294435, 100657,...         9"
      ]
     },
     "execution_count": 7,
     "metadata": {},
     "output_type": "execute_result"
    }
   ],
   "source": [
    "# 플레이리스트 아이디에 대한 노래id, 좋아요 수\n",
    "df_mf = playlists_df[['id', 'songs', 'like_cnt']]\n",
    "df_mf.head()"
   ]
  },
  {
   "cell_type": "markdown",
   "metadata": {},
   "source": [
    "## Matrix Factorization을 위한 R 행렬 만들기"
   ]
  },
  {
   "cell_type": "code",
   "execution_count": 8,
   "metadata": {},
   "outputs": [],
   "source": [
    "# 1. 플레이리스트ID - 개별 곡 - 좋아요 수 데이터 만들기 \n",
    "LF_Matrix = np.dstack(\n",
    "    (\n",
    "        np.repeat((df_mf.id.values), list(map(len, df_mf.songs))),\n",
    "        np.concatenate(df_mf.songs.values),\n",
    "        np.repeat(df_mf.like_cnt.values, list(map(len, df_mf.songs)))\n",
    "    )\n",
    ")"
   ]
  },
  {
   "cell_type": "code",
   "execution_count": 9,
   "metadata": {},
   "outputs": [
    {
     "data": {
      "text/plain": [
       "array([[[ 61281, 525514,     71],\n",
       "        [ 61281, 129701,     71],\n",
       "        [ 61281, 383374,     71],\n",
       "        ...,\n",
       "        [100389, 640239,     17],\n",
       "        [100389,  13759,     17],\n",
       "        [100389, 154078,     17]]])"
      ]
     },
     "execution_count": 9,
     "metadata": {},
     "output_type": "execute_result"
    }
   ],
   "source": [
    "LF_Matrix"
   ]
  },
  {
   "cell_type": "code",
   "execution_count": 10,
   "metadata": {},
   "outputs": [],
   "source": [
    "# 2. unnested 데이터프레임 생성 : song_gnr_map\n",
    "LF_MATRIX = pd.DataFrame(data = LF_Matrix[0], columns = df_mf.columns)"
   ]
  },
  {
   "cell_type": "code",
   "execution_count": 11,
   "metadata": {},
   "outputs": [],
   "source": [
    "LF_MATRIX['id'] = LF_MATRIX['id'].astype(str)\n",
    "LF_MATRIX['songs'] = LF_MATRIX['songs'].astype(str)\n",
    "#del LF_Matrix"
   ]
  },
  {
   "cell_type": "code",
   "execution_count": 12,
   "metadata": {},
   "outputs": [
    {
     "data": {
      "text/html": [
       "<div>\n",
       "<style scoped>\n",
       "    .dataframe tbody tr th:only-of-type {\n",
       "        vertical-align: middle;\n",
       "    }\n",
       "\n",
       "    .dataframe tbody tr th {\n",
       "        vertical-align: top;\n",
       "    }\n",
       "\n",
       "    .dataframe thead th {\n",
       "        text-align: right;\n",
       "    }\n",
       "</style>\n",
       "<table border=\"1\" class=\"dataframe\">\n",
       "  <thead>\n",
       "    <tr style=\"text-align: right;\">\n",
       "      <th></th>\n",
       "      <th>id</th>\n",
       "      <th>songs</th>\n",
       "      <th>like_cnt</th>\n",
       "    </tr>\n",
       "  </thead>\n",
       "  <tbody>\n",
       "    <tr>\n",
       "      <th>0</th>\n",
       "      <td>61281</td>\n",
       "      <td>525514</td>\n",
       "      <td>71</td>\n",
       "    </tr>\n",
       "    <tr>\n",
       "      <th>1</th>\n",
       "      <td>61281</td>\n",
       "      <td>129701</td>\n",
       "      <td>71</td>\n",
       "    </tr>\n",
       "    <tr>\n",
       "      <th>2</th>\n",
       "      <td>61281</td>\n",
       "      <td>383374</td>\n",
       "      <td>71</td>\n",
       "    </tr>\n",
       "    <tr>\n",
       "      <th>3</th>\n",
       "      <td>61281</td>\n",
       "      <td>562083</td>\n",
       "      <td>71</td>\n",
       "    </tr>\n",
       "    <tr>\n",
       "      <th>4</th>\n",
       "      <td>61281</td>\n",
       "      <td>297861</td>\n",
       "      <td>71</td>\n",
       "    </tr>\n",
       "  </tbody>\n",
       "</table>\n",
       "</div>"
      ],
      "text/plain": [
       "      id   songs  like_cnt\n",
       "0  61281  525514        71\n",
       "1  61281  129701        71\n",
       "2  61281  383374        71\n",
       "3  61281  562083        71\n",
       "4  61281  297861        71"
      ]
     },
     "execution_count": 12,
     "metadata": {},
     "output_type": "execute_result"
    }
   ],
   "source": [
    "LF_MATRIX.head()"
   ]
  },
  {
   "cell_type": "code",
   "execution_count": 13,
   "metadata": {},
   "outputs": [],
   "source": [
    "# 3. 좋아요 수 0~1 구간으로 스케일링(적용은 X)\n",
    "tmp = LF_MATRIX['like_cnt'].values\n",
    "tmp = np.reshape(tmp, (len(tmp),1))\n",
    "scaler = MinMaxScaler()\n",
    "scaler.fit(tmp)\n",
    "tmp = scaler.transform(tmp)\n",
    "tmp = np.reshape(tmp, (len(tmp), ))\n",
    "LF_MATRIX['ratings'] = tmp"
   ]
  },
  {
   "cell_type": "code",
   "execution_count": 14,
   "metadata": {},
   "outputs": [
    {
     "data": {
      "text/html": [
       "<div>\n",
       "<style scoped>\n",
       "    .dataframe tbody tr th:only-of-type {\n",
       "        vertical-align: middle;\n",
       "    }\n",
       "\n",
       "    .dataframe tbody tr th {\n",
       "        vertical-align: top;\n",
       "    }\n",
       "\n",
       "    .dataframe thead th {\n",
       "        text-align: right;\n",
       "    }\n",
       "</style>\n",
       "<table border=\"1\" class=\"dataframe\">\n",
       "  <thead>\n",
       "    <tr style=\"text-align: right;\">\n",
       "      <th></th>\n",
       "      <th>id</th>\n",
       "      <th>songs</th>\n",
       "      <th>like_cnt</th>\n",
       "      <th>ratings</th>\n",
       "    </tr>\n",
       "  </thead>\n",
       "  <tbody>\n",
       "    <tr>\n",
       "      <th>0</th>\n",
       "      <td>61281</td>\n",
       "      <td>525514</td>\n",
       "      <td>71</td>\n",
       "      <td>0.001334</td>\n",
       "    </tr>\n",
       "    <tr>\n",
       "      <th>1</th>\n",
       "      <td>61281</td>\n",
       "      <td>129701</td>\n",
       "      <td>71</td>\n",
       "      <td>0.001334</td>\n",
       "    </tr>\n",
       "    <tr>\n",
       "      <th>2</th>\n",
       "      <td>61281</td>\n",
       "      <td>383374</td>\n",
       "      <td>71</td>\n",
       "      <td>0.001334</td>\n",
       "    </tr>\n",
       "    <tr>\n",
       "      <th>3</th>\n",
       "      <td>61281</td>\n",
       "      <td>562083</td>\n",
       "      <td>71</td>\n",
       "      <td>0.001334</td>\n",
       "    </tr>\n",
       "    <tr>\n",
       "      <th>4</th>\n",
       "      <td>61281</td>\n",
       "      <td>297861</td>\n",
       "      <td>71</td>\n",
       "      <td>0.001334</td>\n",
       "    </tr>\n",
       "  </tbody>\n",
       "</table>\n",
       "</div>"
      ],
      "text/plain": [
       "      id   songs  like_cnt   ratings\n",
       "0  61281  525514        71  0.001334\n",
       "1  61281  129701        71  0.001334\n",
       "2  61281  383374        71  0.001334\n",
       "3  61281  562083        71  0.001334\n",
       "4  61281  297861        71  0.001334"
      ]
     },
     "execution_count": 14,
     "metadata": {},
     "output_type": "execute_result"
    }
   ],
   "source": [
    "LF_MATRIX.head()"
   ]
  },
  {
   "cell_type": "code",
   "execution_count": 15,
   "metadata": {},
   "outputs": [],
   "source": [
    "# LF_MATRIX = LF_MATRIX.drop(['like_cnt'], axis=1)"
   ]
  },
  {
   "cell_type": "code",
   "execution_count": 16,
   "metadata": {},
   "outputs": [],
   "source": [
    "# pivot_LF = LF_MATRIX.pivot_table('like_cnt', index='id', columns='songs')\n",
    "# pivot_LF.head()"
   ]
  },
  {
   "cell_type": "code",
   "execution_count": 18,
   "metadata": {},
   "outputs": [
    {
     "data": {
      "text/plain": [
       "array(['61281', '61281', '61281', ..., '100389', '100389', '100389'],\n",
       "      dtype=object)"
      ]
     },
     "execution_count": 18,
     "metadata": {},
     "output_type": "execute_result"
    }
   ],
   "source": [
    "LF_MATRIX.id.values"
   ]
  },
  {
   "cell_type": "code",
   "execution_count": 19,
   "metadata": {},
   "outputs": [],
   "source": [
    "# 4. CSR(Compressed Sparse Row) 매트릭스의 인덱스로 압축하여 저장한다. 0이 많은 경우 압축률이 좋음\n",
    "R = csr_matrix((LF_MATRIX['like_cnt'].astype('int'), \n",
    "                   (LF_MATRIX['id'].astype('int'), \n",
    "                    LF_MATRIX['songs'].astype('int'))))"
   ]
  },
  {
   "cell_type": "code",
   "execution_count": 20,
   "metadata": {},
   "outputs": [
    {
     "name": "stdout",
     "output_type": "stream",
     "text": [
      "(153429, 707989)\n",
      "==================================================\n",
      "  (1, 47805)\t2\n",
      "  (1, 117747)\t2\n",
      "  (1, 308020)\t2\n",
      "  (1, 418970)\t2\n",
      "  (1, 662131)\t2\n",
      "  (2, 12130)\t11\n",
      "  (2, 53980)\t11\n",
      "  (2, 92908)\t11\n",
      "  (2, 115311)\t11\n",
      "  (2, 147122)\t11\n",
      "  (2, 160086)\t11\n",
      "  (2, 244008)\t11\n",
      "  (2, 356975)\t11\n",
      "  (2, 379267)\t11\n",
      "  (2, 424482)\t11\n",
      "  (2, 577345)\t11\n",
      "  (2, 618641)\t11\n",
      "  (2, 642016)\t11\n",
      "  (2, 653647)\t11\n",
      "  (2, 669547)\t11\n",
      "  (2, 672598)\t11\n",
      "  (4, 10961)\t5\n",
      "  (4, 13960)\t5\n",
      "  (4, 16293)\t5\n",
      "  (4, 64641)\t5\n",
      "  :\t:\n",
      "  (153428, 302451)\t24\n",
      "  (153428, 309158)\t24\n",
      "  (153428, 329704)\t24\n",
      "  (153428, 367027)\t24\n",
      "  (153428, 375895)\t24\n",
      "  (153428, 377651)\t24\n",
      "  (153428, 383749)\t24\n",
      "  (153428, 388090)\t24\n",
      "  (153428, 411756)\t24\n",
      "  (153428, 415774)\t24\n",
      "  (153428, 426013)\t24\n",
      "  (153428, 430137)\t24\n",
      "  (153428, 438796)\t24\n",
      "  (153428, 452764)\t24\n",
      "  (153428, 472379)\t24\n",
      "  (153428, 474886)\t24\n",
      "  (153428, 529352)\t24\n",
      "  (153428, 539892)\t24\n",
      "  (153428, 565582)\t24\n",
      "  (153428, 577573)\t24\n",
      "  (153428, 586043)\t24\n",
      "  (153428, 594017)\t24\n",
      "  (153428, 603581)\t24\n",
      "  (153428, 657833)\t24\n",
      "  (153428, 697746)\t24\n"
     ]
    }
   ],
   "source": [
    "print(\"{}\".format(R.shape))\n",
    "print('='*50)\n",
    "print(\"{}\".format(R))"
   ]
  },
  {
   "cell_type": "markdown",
   "metadata": {},
   "source": [
    "## R 행렬을 가지고 Latent Factor 분석 모델 만들기"
   ]
  },
  {
   "cell_type": "code",
   "execution_count": 23,
   "metadata": {},
   "outputs": [
    {
     "name": "stderr",
     "output_type": "stream",
     "text": [
      "WARNING:root:OpenBLAS detected. Its highly recommend to set the environment variable 'export OPENBLAS_NUM_THREADS=1' to disable its internal multithreading\n"
     ]
    }
   ],
   "source": [
    "# initialize a model\n",
    "model = AlternatingLeastSquares(factors=128, regularization=0.08, use_gpu=False)"
   ]
  },
  {
   "cell_type": "code",
   "execution_count": 24,
   "metadata": {},
   "outputs": [
    {
     "data": {
      "application/vnd.jupyter.widget-view+json": {
       "model_id": "df6135c874ca4e18a5051938099cea19",
       "version_major": 2,
       "version_minor": 0
      },
      "text/plain": [
       "HBox(children=(FloatProgress(value=0.0, max=15.0), HTML(value='')))"
      ]
     },
     "metadata": {},
     "output_type": "display_data"
    },
    {
     "name": "stdout",
     "output_type": "stream",
     "text": [
      "\n"
     ]
    }
   ],
   "source": [
    "# train the model on a sparse matrix of item/user/confidence weights\n",
    "model.fit(R)"
   ]
  },
  {
   "cell_type": "code",
   "execution_count": 25,
   "metadata": {},
   "outputs": [
    {
     "name": "stdout",
     "output_type": "stream",
     "text": [
      "<implicit.als.AlternatingLeastSquares object at 0x7f07c76baa20>\n"
     ]
    }
   ],
   "source": [
    "print(\"{}\".format(model))"
   ]
  },
  {
   "cell_type": "code",
   "execution_count": 26,
   "metadata": {},
   "outputs": [],
   "source": [
    "# 유저-아이템 / 아이템-유저 행렬의 잠재요인 결과 보기\n",
    "user_factors = model.user_factors\n",
    "item_factors = model.item_factors.T"
   ]
  },
  {
   "cell_type": "code",
   "execution_count": 27,
   "metadata": {},
   "outputs": [
    {
     "name": "stdout",
     "output_type": "stream",
     "text": [
      "(707989, 128)\n",
      "(128, 153429)\n"
     ]
    }
   ],
   "source": [
    "print(user_factors.shape)\n",
    "print(item_factors.shape)"
   ]
  },
  {
   "cell_type": "code",
   "execution_count": 28,
   "metadata": {
    "scrolled": true
   },
   "outputs": [
    {
     "data": {
      "text/plain": [
       "[(44509, 0.61547005),\n",
       " (104507, 0.52632225),\n",
       " (93910, 0.4115721),\n",
       " (49387, 0.3939622),\n",
       " (73935, 0.3841496)]"
      ]
     },
     "execution_count": 28,
     "metadata": {},
     "output_type": "execute_result"
    }
   ],
   "source": [
    "# 각 플레이리스트 id에 대한 유저들의 곡 선호도 TOP N개 확인\n",
    "recommendations = model.recommend(userid=5, user_items=R, N=5)\n",
    "recommendations"
   ]
  },
  {
   "cell_type": "markdown",
   "metadata": {},
   "source": [
    "## R 행렬 데이터 저장"
   ]
  },
  {
   "cell_type": "code",
   "execution_count": 50,
   "metadata": {},
   "outputs": [],
   "source": [
    "from scipy import sparse\n",
    "\n",
    "#Save\n",
    "sparse.save_npz('R_data.npz', R)"
   ]
  }
 ],
 "metadata": {
  "kernelspec": {
   "display_name": "Python [conda env:aws_neuron_tensorflow_p36]",
   "language": "python",
   "name": "conda-env-aws_neuron_tensorflow_p36-py"
  },
  "language_info": {
   "codemirror_mode": {
    "name": "ipython",
    "version": 3
   },
   "file_extension": ".py",
   "mimetype": "text/x-python",
   "name": "python",
   "nbconvert_exporter": "python",
   "pygments_lexer": "ipython3",
   "version": "3.6.5"
  }
 },
 "nbformat": 4,
 "nbformat_minor": 2
}
